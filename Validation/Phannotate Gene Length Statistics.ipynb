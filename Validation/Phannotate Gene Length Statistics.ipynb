{
 "cells": [
  {
   "cell_type": "markdown",
   "metadata": {},
   "source": [
    "# Length Distributions of Genes Predicted by Phanotate, Glimmer, GeneMarkS, and Prodigal\n",
    "\n",
    "We have run four different gene callers on the 2,133 phage genomes that were in GenBank at the time of download. We have generated several supplemental files that allow us to perform some statistical analysis \n",
    "\n",
    "[genome, stop position, length, gene caller(s)]\n",
    "\n",
    "The gene callers is a - separated list of all the callers that identified the gene at that location. The stop position is the enf of the gene, and the length is the length, in nt, of the gene.\n",
    "\n",
    "In this analysis, we start by looking at all of the data, and then we re-read the file and process just the genes that unique to each gene caller."
   ]
  },
  {
   "cell_type": "code",
   "execution_count": 1,
   "metadata": {},
   "outputs": [],
   "source": [
    "# import our environment\n",
    "import os\n",
    "import sys\n",
    "\n",
    "import gzip\n",
    "import json\n",
    "from math import log,e,sqrt\n",
    "\n",
    "%matplotlib inline\n",
    "import pandas as pd\n",
    "import seaborn as sb\n",
    "import numpy as np\n",
    "import matplotlib.pyplot as plt\n",
    "from scipy import stats\n",
    "\n",
    "import statsmodels.api as sm\n",
    "from statsmodels.formula.api import ols\n",
    "from statsmodels.stats.multicomp import pairwise_tukeyhsd, tukeyhsd, MultiComparison"
   ]
  },
  {
   "cell_type": "code",
   "execution_count": 2,
   "metadata": {},
   "outputs": [],
   "source": [
    "# this is a neat trick for getting markdown in our output\n",
    "# see https://stackoverflow.com/questions/23271575/printing-bold-colored-etc-text-in-ipython-qtconsole\n",
    "# for the inspiration\n",
    "from IPython.display import Markdown, display\n",
    "def printmd(string, color=None):\n",
    "    colorstr = \"<span style='color:{}'>{}</span>\".format(color, string)\n",
    "    display(Markdown(colorstr))"
   ]
  },
  {
   "cell_type": "markdown",
   "metadata": {},
   "source": [
    "# Create a dataframe with each gene callers data\n",
    "\n",
    "This data frame has all the counts for everything but split out. So if I gene is called by genemark-glimmer-prodigal-phanotate the entry appears 4 times, once for each of the callers. We also store the number of times we've seen each gene caller in this data frame so we can extract the unique callers out of it later.\n",
    "\n",
    "Since we know *a priori* that the data is not normally distributed we add a log(x+1) column that we can use for the statistical analysis.\n",
    "\n",
    "We use a simple histogram to visualize the data from each caller."
   ]
  },
  {
   "cell_type": "code",
   "execution_count": 3,
   "metadata": {},
   "outputs": [
    {
     "data": {
      "text/html": [
       "<div>\n",
       "<style scoped>\n",
       "    .dataframe tbody tr th:only-of-type {\n",
       "        vertical-align: middle;\n",
       "    }\n",
       "\n",
       "    .dataframe tbody tr th {\n",
       "        vertical-align: top;\n",
       "    }\n",
       "\n",
       "    .dataframe thead th {\n",
       "        text-align: right;\n",
       "    }\n",
       "</style>\n",
       "<table border=\"1\" class=\"dataframe\">\n",
       "  <thead>\n",
       "    <tr style=\"text-align: right;\">\n",
       "      <th></th>\n",
       "      <th>caller</th>\n",
       "      <th>length</th>\n",
       "      <th>num_callers</th>\n",
       "      <th>loglength</th>\n",
       "    </tr>\n",
       "  </thead>\n",
       "  <tbody>\n",
       "    <tr>\n",
       "      <th>0</th>\n",
       "      <td>genemark</td>\n",
       "      <td>195</td>\n",
       "      <td>4</td>\n",
       "      <td>5.278115</td>\n",
       "    </tr>\n",
       "    <tr>\n",
       "      <th>1</th>\n",
       "      <td>genemark</td>\n",
       "      <td>306</td>\n",
       "      <td>4</td>\n",
       "      <td>5.726848</td>\n",
       "    </tr>\n",
       "    <tr>\n",
       "      <th>2</th>\n",
       "      <td>genemark</td>\n",
       "      <td>228</td>\n",
       "      <td>4</td>\n",
       "      <td>5.433722</td>\n",
       "    </tr>\n",
       "    <tr>\n",
       "      <th>3</th>\n",
       "      <td>genemark</td>\n",
       "      <td>279</td>\n",
       "      <td>4</td>\n",
       "      <td>5.634790</td>\n",
       "    </tr>\n",
       "    <tr>\n",
       "      <th>4</th>\n",
       "      <td>genemark</td>\n",
       "      <td>483</td>\n",
       "      <td>4</td>\n",
       "      <td>6.182085</td>\n",
       "    </tr>\n",
       "  </tbody>\n",
       "</table>\n",
       "</div>"
      ],
      "text/plain": [
       "     caller  length  num_callers  loglength\n",
       "0  genemark     195            4   5.278115\n",
       "1  genemark     306            4   5.726848\n",
       "2  genemark     228            4   5.433722\n",
       "3  genemark     279            4   5.634790\n",
       "4  genemark     483            4   6.182085"
      ]
     },
     "execution_count": 3,
     "metadata": {},
     "output_type": "execute_result"
    }
   ],
   "source": [
    "lgth={}\n",
    "with gzip.open(\"phanotate_all_orf_positions.txt.gz\", \"rt\") as f:\n",
    "    for l in f:\n",
    "        p=l.strip().split(\"\\t\")\n",
    "        if len(p) < 4:\n",
    "            sys.stderr.write(f\"{l}\\n\")\n",
    "            continue\n",
    "        if p[3] not in lgth:\n",
    "            lgth[p[3]] = []\n",
    "        lgth[p[3]].append(int(p[2]))\n",
    "ac = pd.DataFrame()\n",
    "for l in lgth:\n",
    "    p = l.split(\"-\")\n",
    "    num = len(p)\n",
    "    for caller in p:\n",
    "        d = pd.DataFrame({\"num_callers\" : num, \"caller\" : caller, \"length\" : lgth[l]})\n",
    "        ac = ac.append(d)\n",
    "ac['loglength']=ac.apply(lambda x: log(x['length'] + 1), axis=1)\n",
    "ac.head()"
   ]
  },
  {
   "cell_type": "code",
   "execution_count": 4,
   "metadata": {},
   "outputs": [
    {
     "data": {
      "text/plain": [
       "array([[<matplotlib.axes._subplots.AxesSubplot object at 0x7f1f52aa11d0>,\n",
       "        <matplotlib.axes._subplots.AxesSubplot object at 0x7f1f4f7facf8>],\n",
       "       [<matplotlib.axes._subplots.AxesSubplot object at 0x7f1f4f834a58>,\n",
       "        <matplotlib.axes._subplots.AxesSubplot object at 0x7f1f4f7f06d8>]],\n",
       "      dtype=object)"
      ]
     },
     "execution_count": 4,
     "metadata": {},
     "output_type": "execute_result"
    },
    {
     "data": {
      "image/png": "[encoded data removed]",
      "text/plain": [
       "<matplotlib.figure.Figure at 0x7f1f567b7358>"
      ]
     },
     "metadata": {},
     "output_type": "display_data"
    }
   ],
   "source": [
    "ac.hist(by=\"caller\", column='loglength', sharex=True, sharey=True)"
   ]
  },
  {
   "cell_type": "markdown",
   "metadata": {},
   "source": [
    "## Summary Statistics\n",
    "\n",
    "This will be useful in our paper!"
   ]
  },
  {
   "cell_type": "code",
   "execution_count": 5,
   "metadata": {},
   "outputs": [
    {
     "data": {
      "text/markdown": [
       "<span style='color:None'>genemark (n: 213101, *M* = 627.78, *SD* = 718.75)</span>"
      ],
      "text/plain": [
       "<IPython.core.display.Markdown object>"
      ]
     },
     "metadata": {},
     "output_type": "display_data"
    },
    {
     "data": {
      "text/markdown": [
       "<span style='color:None'>glimmer (n: 211278, *M* = 630.66, *SD* = 719.26)</span>"
      ],
      "text/plain": [
       "<IPython.core.display.Markdown object>"
      ]
     },
     "metadata": {},
     "output_type": "display_data"
    },
    {
     "data": {
      "text/markdown": [
       "<span style='color:None'>prodigal (n: 211886, *M* = 630.9, *SD* = 719.85)</span>"
      ],
      "text/plain": [
       "<IPython.core.display.Markdown object>"
      ]
     },
     "metadata": {},
     "output_type": "display_data"
    },
    {
     "data": {
      "text/markdown": [
       "<span style='color:None'>phanotate (n: 225518, *M* = 602.53, *SD* = 708.33)</span>"
      ],
      "text/plain": [
       "<IPython.core.display.Markdown object>"
      ]
     },
     "metadata": {},
     "output_type": "display_data"
    }
   ],
   "source": [
    "for c in pd.unique(ac.caller):\n",
    "    d = ac[ac.caller == c]\n",
    "    count = d.length.count()\n",
    "    m = d.length.min()\n",
    "    x = d.length.max()\n",
    "    n = round(d.length.mean(), 2)\n",
    "    e = round(d.length.median(), 2)\n",
    "    s = round(d.length.std(), 2)\n",
    "    #print(f\"Gene caller: {c}, Min: {m}, Max: {x}, Mean: {n}, Median: {e}, stdev: {s}\")\n",
    "    printmd(f\"{c} (n: {count}, *M* = {n}, *SD* = {s})\")"
   ]
  },
  {
   "cell_type": "markdown",
   "metadata": {},
   "source": [
    "## Compare the mean of the lengths of the proteins\n",
    "\n",
    "We use an ANOVA to determine whether there is any difference in the mean of the lengths of the proteins. Note that we are using ln(length) here since we have a non-normal distribution."
   ]
  },
  {
   "cell_type": "code",
   "execution_count": 6,
   "metadata": {},
   "outputs": [
    {
     "name": "stdout",
     "output_type": "stream",
     "text": [
      "                 sum_sq        df           F         PR(>F)\n",
      "caller       778.219774       3.0  440.453815  5.652033e-286\n",
      "Residual  507547.319505  861779.0         NaN            NaN\n",
      "\n"
     ]
    },
    {
     "data": {
      "text/markdown": [
       "<span style='color:None'>\n",
       "Report as: *F*(3, 861779) = 440.45, *p* = 0.0</span>"
      ],
      "text/plain": [
       "<IPython.core.display.Markdown object>"
      ]
     },
     "metadata": {},
     "output_type": "display_data"
    }
   ],
   "source": [
    "mod = ols('loglength ~ caller', data=ac).fit()\n",
    "aov_table = sm.stats.anova_lm(mod, typ=2)\n",
    "print(aov_table)\n",
    "print()\n",
    "printmd(\"\\nReport as: *F*({}, {}) = {}, *p* = {}\".format(\n",
    "    int(aov_table.df['caller']), \n",
    "    int(aov_table.df['Residual']),\n",
    "    round(aov_table.F['caller'], 2),\n",
    "    round(aov_table.get(\"PR(>F)\")['caller'], 4)\n",
    "))"
   ]
  },
  {
   "cell_type": "markdown",
   "metadata": {},
   "source": [
    "### Use Tukey's honestly significant difference test to compare the data\n",
    "\n",
    "This performs pairwise comparisons on our data. The NULL hypothesis is that there is no statistical difference in the means of the two samples. If we reject that NULL hypothesis (reject == True) then we have reason to believe that there is a significan difference in the means of the samples."
   ]
  },
  {
   "cell_type": "code",
   "execution_count": 7,
   "metadata": {},
   "outputs": [
    {
     "name": "stdout",
     "output_type": "stream",
     "text": [
      " Multiple Comparison of Means - Tukey HSD,FWER=0.05\n",
      "===================================================\n",
      "  group1    group2  meandiff  lower   upper  reject\n",
      "---------------------------------------------------\n",
      " genemark  glimmer   0.0065   0.0005  0.0126  True \n",
      " genemark phanotate -0.0634  -0.0694 -0.0574  True \n",
      " genemark  prodigal  0.0075   0.0014  0.0135  True \n",
      " glimmer  phanotate -0.0699  -0.0759 -0.0639  True \n",
      " glimmer   prodigal  0.001   -0.0051  0.007  False \n",
      "phanotate  prodigal  0.0709   0.0649  0.0769  True \n",
      "---------------------------------------------------\n"
     ]
    }
   ],
   "source": [
    "rec = pairwise_tukeyhsd(ac['loglength'], ac['caller'])\n",
    "print(rec)"
   ]
  },
  {
   "cell_type": "markdown",
   "metadata": {},
   "source": [
    "# Number of gene callers that identify a gene\n",
    "\n",
    "We can also determine whether there is any statistical difference between the mean lengths of genes based on how many gene callers identify it.\n",
    "\n",
    "We would expect, *a priori*, that longer genes would be reported by more gene callers!\n",
    "\n",
    "As we can see, there is no difference in the mean lengths of proteins identified by one or two gene callers, but all others are different."
   ]
  },
  {
   "cell_type": "code",
   "execution_count": 8,
   "metadata": {},
   "outputs": [
    {
     "name": "stdout",
     "output_type": "stream",
     "text": [
      "                   sum_sq        df             F  PR(>F)\n",
      "num_callers  1.067837e+10       1.0  21312.854892     0.0\n",
      "Residual     4.317779e+11  861781.0           NaN     NaN\n",
      "\n"
     ]
    },
    {
     "data": {
      "text/markdown": [
       "<span style='color:None'>\n",
       "Report as: *F*(1, 861781) = 21312.85, *p* = 0.0</span>"
      ],
      "text/plain": [
       "<IPython.core.display.Markdown object>"
      ]
     },
     "metadata": {},
     "output_type": "display_data"
    },
    {
     "name": "stdout",
     "output_type": "stream",
     "text": [
      "\n",
      "Multiple Comparison of Means - Tukey HSD,FWER=0.05\n",
      "===============================================\n",
      "group1 group2 meandiff  lower    upper   reject\n",
      "-----------------------------------------------\n",
      "  1      2    11.0368  -8.2005   30.274  False \n",
      "  1      3    74.2389  59.1295  89.3482   True \n",
      "  1      4    451.7414 439.0117 464.4711  True \n",
      "  2      3    63.2021  46.3875  80.0166   True \n",
      "  2      4    440.7046 425.9913 455.418   True \n",
      "  3      4    377.5025 368.8595 386.1456  True \n",
      "-----------------------------------------------\n"
     ]
    }
   ],
   "source": [
    "mod = ols('length ~ num_callers', data=ac).fit()\n",
    "aov_table = sm.stats.anova_lm(mod, typ=2)\n",
    "print(aov_table)\n",
    "print()\n",
    "printmd(\"\\nReport as: *F*({}, {}) = {}, *p* = {}\".format(\n",
    "    int(aov_table.df['num_callers']), \n",
    "    int(aov_table.df['Residual']),\n",
    "    round(aov_table.F['num_callers'], 2),\n",
    "    round(aov_table.get(\"PR(>F)\")['num_callers'], 4)\n",
    "))\n",
    "print()\n",
    "rec = pairwise_tukeyhsd(ac['length'], ac['num_callers'])\n",
    "print(rec.summary())"
   ]
  },
  {
   "cell_type": "markdown",
   "metadata": {},
   "source": [
    "# Unique Genes\n",
    "\n",
    "These are the set of genes that have only been identified by a single gene caller. We can filter based on `num_callers` field in our data frame, and then test whether there is any difference here."
   ]
  },
  {
   "cell_type": "code",
   "execution_count": 9,
   "metadata": {},
   "outputs": [
    {
     "data": {
      "text/html": [
       "<div>\n",
       "<style scoped>\n",
       "    .dataframe tbody tr th:only-of-type {\n",
       "        vertical-align: middle;\n",
       "    }\n",
       "\n",
       "    .dataframe tbody tr th {\n",
       "        vertical-align: top;\n",
       "    }\n",
       "\n",
       "    .dataframe thead th {\n",
       "        text-align: right;\n",
       "    }\n",
       "</style>\n",
       "<table border=\"1\" class=\"dataframe\">\n",
       "  <thead>\n",
       "    <tr style=\"text-align: right;\">\n",
       "      <th></th>\n",
       "      <th>caller</th>\n",
       "      <th>length</th>\n",
       "      <th>num_callers</th>\n",
       "      <th>loglength</th>\n",
       "    </tr>\n",
       "  </thead>\n",
       "  <tbody>\n",
       "    <tr>\n",
       "      <th>0</th>\n",
       "      <td>phanotate</td>\n",
       "      <td>105</td>\n",
       "      <td>1</td>\n",
       "      <td>4.663439</td>\n",
       "    </tr>\n",
       "    <tr>\n",
       "      <th>1</th>\n",
       "      <td>phanotate</td>\n",
       "      <td>120</td>\n",
       "      <td>1</td>\n",
       "      <td>4.795791</td>\n",
       "    </tr>\n",
       "    <tr>\n",
       "      <th>2</th>\n",
       "      <td>phanotate</td>\n",
       "      <td>165</td>\n",
       "      <td>1</td>\n",
       "      <td>5.111988</td>\n",
       "    </tr>\n",
       "    <tr>\n",
       "      <th>3</th>\n",
       "      <td>phanotate</td>\n",
       "      <td>90</td>\n",
       "      <td>1</td>\n",
       "      <td>4.510860</td>\n",
       "    </tr>\n",
       "    <tr>\n",
       "      <th>4</th>\n",
       "      <td>phanotate</td>\n",
       "      <td>210</td>\n",
       "      <td>1</td>\n",
       "      <td>5.351858</td>\n",
       "    </tr>\n",
       "  </tbody>\n",
       "</table>\n",
       "</div>"
      ],
      "text/plain": [
       "      caller  length  num_callers  loglength\n",
       "0  phanotate     105            1   4.663439\n",
       "1  phanotate     120            1   4.795791\n",
       "2  phanotate     165            1   5.111988\n",
       "3  phanotate      90            1   4.510860\n",
       "4  phanotate     210            1   5.351858"
      ]
     },
     "execution_count": 9,
     "metadata": {},
     "output_type": "execute_result"
    }
   ],
   "source": [
    "sc = ac[ac.num_callers == 1]\n",
    "sc.head()"
   ]
  },
  {
   "cell_type": "markdown",
   "metadata": {},
   "source": [
    "# Min, Max, Mean and StDev for each Gene Caller alone\n",
    "\n",
    "Provide information about each of the genes in the entire data set. "
   ]
  },
  {
   "cell_type": "code",
   "execution_count": 10,
   "metadata": {},
   "outputs": [
    {
     "data": {
      "text/markdown": [
       "<span style='color:None'>phanotate (*M* = 210.1, *SD* = 245.94)</span>"
      ],
      "text/plain": [
       "<IPython.core.display.Markdown object>"
      ]
     },
     "metadata": {},
     "output_type": "display_data"
    },
    {
     "data": {
      "text/markdown": [
       "<span style='color:None'>prodigal (*M* = 226.87, *SD* = 151.58)</span>"
      ],
      "text/plain": [
       "<IPython.core.display.Markdown object>"
      ]
     },
     "metadata": {},
     "output_type": "display_data"
    },
    {
     "data": {
      "text/markdown": [
       "<span style='color:None'>genemark (*M* = 183.43, *SD* = 109.06)</span>"
      ],
      "text/plain": [
       "<IPython.core.display.Markdown object>"
      ]
     },
     "metadata": {},
     "output_type": "display_data"
    },
    {
     "data": {
      "text/markdown": [
       "<span style='color:None'>glimmer (*M* = 217.22, *SD* = 174.35)</span>"
      ],
      "text/plain": [
       "<IPython.core.display.Markdown object>"
      ]
     },
     "metadata": {},
     "output_type": "display_data"
    }
   ],
   "source": [
    "for c in pd.unique(sc.caller):\n",
    "    d = sc[sc.caller == c]\n",
    "    m = d.length.min()\n",
    "    x = d.length.max()\n",
    "    n = round(d.length.mean(), 2)\n",
    "    e = round(d.length.median(), 2)\n",
    "    s = round(d.length.std(), 2)\n",
    "    #print(f\"Gene caller: {c}, Min: {m}, Max: {x}, Mean: {n}, Median: {e}, stdev: {s}\")\n",
    "    printmd(f\"{c} (*M* = {n}, *SD* = {s})\")"
   ]
  },
  {
   "cell_type": "markdown",
   "metadata": {},
   "source": [
    "# Histogram\n",
    "\n",
    "A quick plot of the data is always helpful to see what we have."
   ]
  },
  {
   "cell_type": "code",
   "execution_count": 11,
   "metadata": {},
   "outputs": [
    {
     "data": {
      "text/plain": [
       "array([[<matplotlib.axes._subplots.AxesSubplot object at 0x7f1f905d5160>,\n",
       "        <matplotlib.axes._subplots.AxesSubplot object at 0x7f1f9058a128>],\n",
       "       [<matplotlib.axes._subplots.AxesSubplot object at 0x7f1f9059df28>,\n",
       "        <matplotlib.axes._subplots.AxesSubplot object at 0x7f1f90567780>]],\n",
       "      dtype=object)"
      ]
     },
     "execution_count": 11,
     "metadata": {},
     "output_type": "execute_result"
    },
    {
     "data": {
      "image/png": "[encoded data removed]",
      "text/plain": [
       "<matplotlib.figure.Figure at 0x7f1f90e499e8>"
      ]
     },
     "metadata": {},
     "output_type": "display_data"
    }
   ],
   "source": [
    "sc.hist(by=\"caller\", column='loglength')"
   ]
  },
  {
   "cell_type": "markdown",
   "metadata": {},
   "source": [
    "# ANOVA\n",
    "\n",
    "A one-way anova on the length distribution of the data to test whether there are any significant differences.\n",
    "\n",
    "For more details on how to correctly report statistics, see [this excellent post](http://my.ilstu.edu/~jhkahn/apastats.html) that describes reporting statistics in APA style. This is what we will use"
   ]
  },
  {
   "cell_type": "code",
   "execution_count": 12,
   "metadata": {},
   "outputs": [
    {
     "name": "stdout",
     "output_type": "stream",
     "text": [
      "               sum_sq       df          F        PR(>F)\n",
      "caller      51.350353      3.0  56.600959  1.971368e-36\n",
      "Residual  6307.095531  20856.0        NaN           NaN\n",
      "\n"
     ]
    },
    {
     "data": {
      "text/markdown": [
       "<span style='color:None'>\n",
       "Report as: *F*(3, 20856) = 56.6, *p* = 0.0</span>"
      ],
      "text/plain": [
       "<IPython.core.display.Markdown object>"
      ]
     },
     "metadata": {},
     "output_type": "display_data"
    }
   ],
   "source": [
    "mod = ols('loglength ~ caller', data=sc).fit()\n",
    "aov_table = sm.stats.anova_lm(mod, typ=2)\n",
    "print(aov_table)\n",
    "print()\n",
    "printmd(\"\\nReport as: *F*({}, {}) = {}, *p* = {}\".format(\n",
    "    int(aov_table.df['caller']), \n",
    "    int(aov_table.df['Residual']),\n",
    "    round(aov_table.F['caller'], 2),\n",
    "    round(aov_table.get(\"PR(>F)\")['caller'], 4)\n",
    "))"
   ]
  },
  {
   "cell_type": "markdown",
   "metadata": {},
   "source": [
    "# Tukey's Test\n",
    "\n",
    "Compare the pairwise sets of proteins to determine if there are any differences. Note that if `reject == True` it means that we reject the NULL hypothesis that there is no difference in the populations from which the samples were taken. If `reject == False` it suggests the samples are the same."
   ]
  },
  {
   "cell_type": "code",
   "execution_count": 13,
   "metadata": {},
   "outputs": [
    {
     "name": "stdout",
     "output_type": "stream",
     "text": [
      " Multiple Comparison of Means - Tukey HSD,FWER=0.05\n",
      "===================================================\n",
      "  group1    group2  meandiff  lower   upper  reject\n",
      "---------------------------------------------------\n",
      " genemark  glimmer   0.1289   0.084   0.1738  True \n",
      " genemark phanotate  0.0186  -0.0206  0.0578 False \n",
      " genemark  prodigal  0.1658   0.1079  0.2238  True \n",
      " glimmer  phanotate -0.1103  -0.1374 -0.0831  True \n",
      " glimmer   prodigal  0.0369  -0.0136  0.0875 False \n",
      "phanotate  prodigal  0.1472   0.1016  0.1928  True \n",
      "---------------------------------------------------\n"
     ]
    }
   ],
   "source": [
    "rec = pairwise_tukeyhsd(sc['loglength'], sc['caller'])\n",
    "print(rec)"
   ]
  },
  {
   "cell_type": "markdown",
   "metadata": {},
   "source": [
    "# Phanotate Hit/No Hit Data\n",
    "\n",
    "This file has a list of the lengths of the proteins that are unique to phanotate, and wether they have any similarity to the GenBank non-redundant database.\n",
    "\n",
    "We read these into a data frame as before."
   ]
  },
  {
   "cell_type": "code",
   "execution_count": 14,
   "metadata": {},
   "outputs": [
    {
     "data": {
      "text/plain": [
       "(15755, 3)"
      ]
     },
     "execution_count": 14,
     "metadata": {},
     "output_type": "execute_result"
    }
   ],
   "source": [
    "phnr = pd.DataFrame()\n",
    "with gzip.GzipFile(\"phanotate_v_nr_lens.json.gz\", 'r') as fin:\n",
    "    phandata = json.loads(fin.read())\n",
    "for gc in phandata:\n",
    "    x=pd.DataFrame({'caller' : gc, 'length' : phandata[gc]})\n",
    "    phnr = phnr.append(x)\n",
    "phnr['loglength']=phnr.apply(lambda x: log(x['length'] + 1), axis=1)\n",
    "phnr.shape"
   ]
  },
  {
   "cell_type": "markdown",
   "metadata": {},
   "source": [
    "# t-test on the two log length columns\n",
    "\n",
    "We use a t-test to determine whether the two samples are the same or not. Note that here we take a sample of 1,000 elements from our data and test those. It ensures that our sample sizes are the same and a random sample of 1,000 elements will have the same distribution as the whole data set."
   ]
  },
  {
   "cell_type": "code",
   "execution_count": 15,
   "metadata": {},
   "outputs": [
    {
     "name": "stdout",
     "output_type": "stream",
     "text": [
      "Sample phan_hit_nr N: 4128 Mean: 240.65 Stdev 228.61\n",
      "Sample phan_no_hit N: 11627 Mean: 229.02 Stdev 261.1\n"
     ]
    },
    {
     "data": {
      "text/markdown": [
       "<span style='color:None'>t test iteration 0: *t*(999) = 3.95, *p* < 0.0001</span>"
      ],
      "text/plain": [
       "<IPython.core.display.Markdown object>"
      ]
     },
     "metadata": {},
     "output_type": "display_data"
    },
    {
     "data": {
      "text/markdown": [
       "<span style='color:None'>t test iteration 1: *t*(999) = 4.64, *p* < 0.0</span>"
      ],
      "text/plain": [
       "<IPython.core.display.Markdown object>"
      ]
     },
     "metadata": {},
     "output_type": "display_data"
    },
    {
     "data": {
      "text/markdown": [
       "<span style='color:None'>t test iteration 2: *t*(999) = 4.08, *p* < 0.0</span>"
      ],
      "text/plain": [
       "<IPython.core.display.Markdown object>"
      ]
     },
     "metadata": {},
     "output_type": "display_data"
    },
    {
     "data": {
      "text/markdown": [
       "<span style='color:None'>t test iteration 3: *t*(999) = 3.67, *p* < 0.0003</span>"
      ],
      "text/plain": [
       "<IPython.core.display.Markdown object>"
      ]
     },
     "metadata": {},
     "output_type": "display_data"
    },
    {
     "data": {
      "text/markdown": [
       "<span style='color:None'>t test iteration 4: *t*(999) = 4.39, *p* < 0.0</span>"
      ],
      "text/plain": [
       "<IPython.core.display.Markdown object>"
      ]
     },
     "metadata": {},
     "output_type": "display_data"
    },
    {
     "data": {
      "text/markdown": [
       "<span style='color:None'>t test iteration 5: *t*(999) = 3.07, *p* < 0.0022</span>"
      ],
      "text/plain": [
       "<IPython.core.display.Markdown object>"
      ]
     },
     "metadata": {},
     "output_type": "display_data"
    },
    {
     "data": {
      "text/markdown": [
       "<span style='color:None'>t test iteration 6: *t*(999) = 4.67, *p* < 0.0</span>"
      ],
      "text/plain": [
       "<IPython.core.display.Markdown object>"
      ]
     },
     "metadata": {},
     "output_type": "display_data"
    },
    {
     "data": {
      "text/markdown": [
       "<span style='color:None'>t test iteration 7: *t*(999) = 3.15, *p* < 0.0017</span>"
      ],
      "text/plain": [
       "<IPython.core.display.Markdown object>"
      ]
     },
     "metadata": {},
     "output_type": "display_data"
    },
    {
     "data": {
      "text/markdown": [
       "<span style='color:None'>t test iteration 8: *t*(999) = 4.05, *p* < 0.0001</span>"
      ],
      "text/plain": [
       "<IPython.core.display.Markdown object>"
      ]
     },
     "metadata": {},
     "output_type": "display_data"
    },
    {
     "data": {
      "text/markdown": [
       "<span style='color:None'>t test iteration 9: *t*(999) = 3.67, *p* < 0.0003</span>"
      ],
      "text/plain": [
       "<IPython.core.display.Markdown object>"
      ]
     },
     "metadata": {},
     "output_type": "display_data"
    }
   ],
   "source": [
    "for i in pd.unique(phnr.caller):\n",
    "    n = phnr[phnr['caller'] == i]['length'].count()\n",
    "    m = round(phnr[phnr['caller'] == i]['length'].mean(), 2)\n",
    "    s = round(phnr[phnr['caller'] == i]['length'].std(), 2)\n",
    "    print(f\"Sample {i} N: {n} Mean: {m} Stdev {s}\")\n",
    "\n",
    "sampsize = 1000\n",
    "for i in range(10):\n",
    "    hn = phnr[phnr['caller'] == \"phan_hit_nr\"].sample(sampsize)['loglength']\n",
    "    nh = phnr[phnr['caller'] == \"phan_no_hit\"].sample(sampsize)['loglength']\n",
    "\n",
    "    rec = stats.ttest_rel(hn, nh, nan_policy='omit')\n",
    "    printmd(\"t test iteration {}: *t*({}) = {}, *p* < {}\".format(i, sampsize-1, round(rec.statistic,2), round(rec.pvalue, 4)))"
   ]
  }
 ],
 "metadata": {
  "kernelspec": {
   "display_name": "Python 3",
   "language": "python",
   "name": "python3"
  },
  "language_info": {
   "codemirror_mode": {
    "name": "ipython",
    "version": 3
   },
   "file_extension": ".py",
   "mimetype": "text/x-python",
   "name": "python",
   "nbconvert_exporter": "python",
   "pygments_lexer": "ipython3",
   "version": "3.6.7"
  }
 },
 "nbformat": 4,
 "nbformat_minor": 2
}
